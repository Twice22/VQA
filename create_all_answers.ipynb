{
 "cells": [
  {
   "cell_type": "code",
   "execution_count": 1,
   "metadata": {
    "collapsed": true
   },
   "outputs": [],
   "source": [
    "import json\n",
    "from utils import preprocess_data, topKFrequentAnswer\n",
    "\n",
    "\n",
    "data_question = json.load(open('Questions/OpenEnded_mscoco_train2014_questions.json'))\n",
    "data_answer = json.load(open('Annotations/mscoco_train2014_annotations.json')) \n",
    "data_qval = json.load(open('Questions/OpenEnded_mscoco_val2014_questions.json'))\n",
    "data_aval = json.load(open('Annotations/mscoco_val2014_annotations.json'))"
   ]
  },
  {
   "cell_type": "code",
   "execution_count": 2,
   "metadata": {
    "collapsed": true
   },
   "outputs": [],
   "source": [
    "_, K_val_dict, topKAnswers = topKFrequentAnswer(data_question, data_answer, data_qval, data_aval)\n",
    "\n",
    "K_images_val_id, K_questions_val_id, K_questions_val, K_questions_val_len, K_answers_val = K_val_dict['images_id'], K_val_dict['questions_id'], K_val_dict['questions'], K_val_dict['questions_len'], K_val_dict['answers']"
   ]
  },
  {
   "cell_type": "code",
   "execution_count": 31,
   "metadata": {
    "collapsed": true
   },
   "outputs": [],
   "source": [
    "import csv\n",
    "\n",
    "img_ptr = 0\n",
    "q_ptr = 0\n",
    "c = 0\n",
    "with open('multiple_answers.csv', 'w', newline='') as f:\n",
    "    wr = csv.writer(f, quoting=csv.QUOTE_MINIMAL)\n",
    "    for obj in data_aval['annotations']:\n",
    "        if (obj['image_id'] == K_images_val_id[img_ptr] and \n",
    "            obj['question_id'] == K_questions_val_id[q_ptr]):\n",
    "\n",
    "            q_ptr += 1\n",
    "            img_ptr += 1\n",
    "\n",
    "            # construct list\n",
    "            l = []\n",
    "            for a in obj['answers']:\n",
    "                l.append(a['answer'])\n",
    "            wr.writerow(l)"
   ]
  }
 ],
 "metadata": {
  "kernelspec": {
   "display_name": "Python 3",
   "language": "python",
   "name": "python3"
  },
  "language_info": {
   "codemirror_mode": {
    "name": "ipython",
    "version": 3
   },
   "file_extension": ".py",
   "mimetype": "text/x-python",
   "name": "python",
   "nbconvert_exporter": "python",
   "pygments_lexer": "ipython3",
   "version": "3.6.3"
  }
 },
 "nbformat": 4,
 "nbformat_minor": 2
}
