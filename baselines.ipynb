{
 "cells": [
  {
   "cell_type": "code",
   "execution_count": 2,
   "metadata": {
    "collapsed": true
   },
   "outputs": [],
   "source": [
    "import json\n",
    "from pprint import pprint\n",
    "\n",
    "import numpy as np\n",
    "\n",
    "import collections\n",
    "import operator"
   ]
  },
  {
   "cell_type": "code",
   "execution_count": 36,
   "metadata": {
    "collapsed": true
   },
   "outputs": [],
   "source": [
    "answers = json.load(open('Annotations/mscoco_val2014_annotations.json'))"
   ]
  },
  {
   "cell_type": "markdown",
   "metadata": {},
   "source": [
    "## Baseline 2 (always \"yes\")"
   ]
  },
  {
   "cell_type": "code",
   "execution_count": 56,
   "metadata": {},
   "outputs": [
    {
     "name": "stdout",
     "output_type": "stream",
     "text": [
      "other accuracy on validation set: 1.53\n",
      "number accuracy on validation set: 0.42\n",
      "yes/no accuracy on validation set: 72.00\n",
      "final accuracy on validation set: 27.76\n"
     ]
    }
   ],
   "source": [
    "c = 0.0\n",
    "cat_counter = {'yes/no': 0, 'other': 0, 'number': 0, 'all': 0}\n",
    "cat = {'yes/no': 0, 'other': 0, 'number': 0, 'all': 0}\n",
    "for obj in answers['annotations']:\n",
    "\n",
    "    cat_counter[obj['answer_type']] += 1\n",
    "    \n",
    "    l = []\n",
    "    for a in obj['answers']:\n",
    "        l.append(a['answer'])\n",
    "    \n",
    "    count = l.count('yes')\n",
    "    if count > 2:\n",
    "        cat[obj['answer_type']] += 1\n",
    "        c += 1\n",
    "    else:\n",
    "        cat[obj['answer_type']] += float(count)/3\n",
    "        c += float(count)/3\n",
    "\n",
    "print('other accuracy on validation set: %.02f' % (100 * cat['other']/cat_counter['other']))\n",
    "print('number accuracy on validation set: %.02f' % (100 * cat['number']/cat_counter['number']))\n",
    "print('yes/no accuracy on validation set: %.02f' % (100 * cat['yes/no']/cat_counter['yes/no']))\n",
    "print('final accuracy on validation set: %.02f' % (100 * c/len(answers['annotations'])))"
   ]
  },
  {
   "cell_type": "markdown",
   "metadata": {},
   "source": [
    "## Baseline 3 (q-Prior)"
   ]
  },
  {
   "cell_type": "code",
   "execution_count": 79,
   "metadata": {
    "collapsed": true
   },
   "outputs": [],
   "source": [
    "questions_data = ['Questions/OpenEnded_mscoco_train2014_questions.json']\n",
    "                  #'Questions/OpenEnded_mscoco_val2014_questions.json']\n",
    "                  #'Questions/OpenEnded_abstract_v002_train2015_questions.json', \n",
    "                  #'Questions/OpenEnded_abstract_v002_val2015_questions.json']"
   ]
  },
  {
   "cell_type": "code",
   "execution_count": 80,
   "metadata": {
    "collapsed": true
   },
   "outputs": [],
   "source": [
    "annotations_data = ['Annotations/mscoco_train2014_annotations.json']\n",
    "                    #'Annotations/mscoco_val2014_annotations.json']\n",
    "                    #'Annotations/abstract_v002_train2015_annotations.json',\n",
    "                    #'Annotations/abstract_v002_val2015_annotations.json']"
   ]
  },
  {
   "cell_type": "code",
   "execution_count": 87,
   "metadata": {
    "collapsed": true
   },
   "outputs": [],
   "source": [
    "def createDictBaseline3(*args):\n",
    "    qCat = collections.defaultdict(dict)\n",
    "    \n",
    "    for dataset in list(*args):\n",
    "        data = json.load(open(dataset))\n",
    "        \n",
    "        for i in range(len(data[\"annotations\"])):\n",
    "            question_type = data[\"annotations\"][i][\"question_type\"]\n",
    "            answer = data[\"annotations\"][i]['multiple_choice_answer']\n",
    "            qCat[question_type][answer] = 1 if answer not in qCat[question_type] else qCat[question_type][answer] + 1\n",
    "    \n",
    "    #print(qCat)\n",
    "    \n",
    "    qPrior = dict()\n",
    "    for k, v in qCat.items():\n",
    "        qPrior[k] = sorted(qCat[k].items(), key=operator.itemgetter(1), reverse=True)[0][0]\n",
    "    \n",
    "    return qPrior"
   ]
  },
  {
   "cell_type": "code",
   "execution_count": 88,
   "metadata": {},
   "outputs": [],
   "source": [
    "# return a dictionary such that:\n",
    "# dict[question_type] = most_popular_answer_by_question_type\n",
    "qPrior = createDictBaseline3(annotations_data)"
   ]
  },
  {
   "cell_type": "code",
   "execution_count": 89,
   "metadata": {},
   "outputs": [
    {
     "data": {
      "text/plain": [
       "{'are': 'no',\n",
       " 'are the': 'yes',\n",
       " 'are there': 'yes',\n",
       " 'are there any': 'yes',\n",
       " 'are these': 'yes',\n",
       " 'are they': 'yes',\n",
       " 'can you': 'yes',\n",
       " 'could': 'yes',\n",
       " 'do': 'yes',\n",
       " 'do you': 'yes',\n",
       " 'does the': 'yes',\n",
       " 'does this': 'yes',\n",
       " 'has': 'yes',\n",
       " 'how': 'very',\n",
       " 'how many': '2',\n",
       " 'how many people are': '2',\n",
       " 'how many people are in': '2',\n",
       " 'is': 'yes',\n",
       " 'is he': 'yes',\n",
       " 'is it': 'yes',\n",
       " 'is that a': 'yes',\n",
       " 'is the': 'yes',\n",
       " 'is the man': 'yes',\n",
       " 'is the person': 'yes',\n",
       " 'is the woman': 'yes',\n",
       " 'is there': 'yes',\n",
       " 'is there a': 'yes',\n",
       " 'is this': 'yes',\n",
       " 'is this a': 'yes',\n",
       " 'is this an': 'yes',\n",
       " 'is this person': 'yes',\n",
       " 'none of the above': 'yes',\n",
       " 'was': 'yes',\n",
       " 'what': 'baseball',\n",
       " 'what animal is': 'cat',\n",
       " 'what are': 'frisbee',\n",
       " 'what are the': 'grass',\n",
       " 'what brand': 'apple',\n",
       " 'what color': 'red',\n",
       " 'what color are the': 'white',\n",
       " 'what color is': 'red',\n",
       " 'what color is the': 'white',\n",
       " 'what does the': 'stop',\n",
       " 'what is': 'snow',\n",
       " 'what is in the': 'kite',\n",
       " 'what is on the': 'snow',\n",
       " 'what is the': 'wood',\n",
       " 'what is the color of the': 'white',\n",
       " 'what is the man': 'surfboard',\n",
       " 'what is the name': 'big ben',\n",
       " 'what is the person': 'surfing',\n",
       " 'what is the woman': 'umbrella',\n",
       " 'what is this': 'skateboard',\n",
       " 'what kind of': 'pizza',\n",
       " 'what number is': '2',\n",
       " 'what room is': 'bathroom',\n",
       " 'what sport is': 'tennis',\n",
       " 'what time': 'night',\n",
       " 'what type of': 'pizza',\n",
       " 'where are the': 'table',\n",
       " 'where is the': 'on table',\n",
       " 'which': 'right',\n",
       " 'who is': 'man',\n",
       " 'why': 'yes',\n",
       " 'why is the': 'yes'}"
      ]
     },
     "execution_count": 89,
     "metadata": {},
     "output_type": "execute_result"
    }
   ],
   "source": [
    "qPrior"
   ]
  },
  {
   "cell_type": "code",
   "execution_count": 90,
   "metadata": {},
   "outputs": [
    {
     "name": "stdout",
     "output_type": "stream",
     "text": [
      "other accuracy on validation set: 9.08\n",
      "number accuracy on validation set: 32.61\n",
      "yes/no accuracy on validation set: 72.13\n",
      "final accuracy on validation set: 35.63\n"
     ]
    }
   ],
   "source": [
    "c = 0.0\n",
    "cat_counter = {'yes/no': 0, 'other': 0, 'number': 0, 'all': 0}\n",
    "cat = {'yes/no': 0, 'other': 0, 'number': 0, 'all': 0}\n",
    "for obj in answers['annotations']:\n",
    "\n",
    "    cat_counter[obj['answer_type']] += 1\n",
    "    \n",
    "    l = []\n",
    "    for a in obj['answers']:\n",
    "        l.append(a['answer'])\n",
    "    \n",
    "    count = l.count(qPrior[obj['question_type']])\n",
    "    if count > 2:\n",
    "        cat[obj['answer_type']] += 1\n",
    "        c += 1\n",
    "    else:\n",
    "        cat[obj['answer_type']] += float(count)/3\n",
    "        c += float(count)/3\n",
    "\n",
    "print('other accuracy on validation set: %.02f' % (100 * cat['other']/cat_counter['other']))\n",
    "print('number accuracy on validation set: %.02f' % (100 * cat['number']/cat_counter['number']))\n",
    "print('yes/no accuracy on validation set: %.02f' % (100 * cat['yes/no']/cat_counter['yes/no']))\n",
    "print('final accuracy on validation set: %.02f' % (100 * c/len(answers['annotations'])))"
   ]
  },
  {
   "cell_type": "markdown",
   "metadata": {},
   "source": [
    "## Other baselines"
   ]
  },
  {
   "cell_type": "markdown",
   "metadata": {
    "collapsed": true
   },
   "source": [
    "# Baseline 1: Random"
   ]
  },
  {
   "cell_type": "code",
   "execution_count": 91,
   "metadata": {
    "collapsed": true
   },
   "outputs": [],
   "source": [
    "def top_answers_vqa_training(*args):\n",
    "    qCat = collections.defaultdict(dict)\n",
    "    \n",
    "    for dataset in list(*args):\n",
    "        data = json.load(open(dataset))\n",
    "        \n",
    "        for i in range(len(data[\"annotations\"])):\n",
    "            answer = data[\"annotations\"][i]['multiple_choice_answer']\n",
    "            qCat[answer] = 1 if answer not in qCat else qCat[answer] + 1\n",
    "    \n",
    "    sorted_answer = sorted(qCat.items(), key=operator.itemgetter(1), reverse=True)\n",
    "    top_answer=sorted_answer[0:1000]\n",
    "    \n",
    "    return top_answer"
   ]
  },
  {
   "cell_type": "code",
   "execution_count": 92,
   "metadata": {
    "collapsed": true
   },
   "outputs": [],
   "source": [
    "top_answer = top_answers_vqa_training(annotations_data)"
   ]
  },
  {
   "cell_type": "code",
   "execution_count": 105,
   "metadata": {},
   "outputs": [
    {
     "name": "stdout",
     "output_type": "stream",
     "text": [
      "other accuracy on validation set: 0.12\n",
      "number accuracy on validation set: 0.14\n",
      "yes/no accuracy on validation set: 0.12\n",
      "final accuracy on validation set: 0.12\n"
     ]
    }
   ],
   "source": [
    "import random\n",
    "\n",
    "c = 0.0\n",
    "cat_counter = {'yes/no': 0, 'other': 0, 'number': 0, 'all': 0}\n",
    "cat = {'yes/no': 0, 'other': 0, 'number': 0, 'all': 0}\n",
    "for obj in answers['annotations']:\n",
    "\n",
    "    cat_counter[obj['answer_type']] += 1\n",
    "    \n",
    "    l = []\n",
    "    for a in obj['answers']:\n",
    "        l.append(a['answer'])\n",
    "    \n",
    "    count = l.count(random.choice(top_answer)[0])\n",
    "    if count > 2:\n",
    "        cat[obj['answer_type']] += 1\n",
    "        c += 1\n",
    "    else:\n",
    "        cat[obj['answer_type']] += float(count)/3\n",
    "        c += float(count)/3\n",
    "\n",
    "print('other accuracy on validation set: %.02f' % (100 * cat['other']/cat_counter['other']))\n",
    "print('number accuracy on validation set: %.02f' % (100 * cat['number']/cat_counter['number']))\n",
    "print('yes/no accuracy on validation set: %.02f' % (100 * cat['yes/no']/cat_counter['yes/no']))\n",
    "print('final accuracy on validation set: %.02f' % (100 * c/len(answers['annotations'])))"
   ]
  },
  {
   "cell_type": "markdown",
   "metadata": {
    "collapsed": true
   },
   "source": [
    "# Baseline 4: K-nearest"
   ]
  },
  {
   "cell_type": "code",
   "execution_count": 5,
   "metadata": {
    "collapsed": true
   },
   "outputs": [],
   "source": [
    "import skipthoughts"
   ]
  },
  {
   "cell_type": "code",
   "execution_count": 6,
   "metadata": {},
   "outputs": [
    {
     "name": "stdout",
     "output_type": "stream",
     "text": [
      "Loading model parameters...\n",
      "Compiling encoders...\n",
      "Loading tables...\n",
      "Packing up...\n"
     ]
    }
   ],
   "source": [
    "model = skipthoughts.load_model()"
   ]
  },
  {
   "cell_type": "code",
   "execution_count": 7,
   "metadata": {
    "collapsed": true
   },
   "outputs": [],
   "source": [
    "encoder = skipthoughts.Encoder(model)"
   ]
  },
  {
   "cell_type": "code",
   "execution_count": null,
   "metadata": {
    "collapsed": true
   },
   "outputs": [],
   "source": [
    "#import nltk\n",
    "#nltk.download()\n",
    "X=['What is your name','are you there']\n",
    "vectors = encoder.encode(X)\n",
    "vectors"
   ]
  },
  {
   "cell_type": "code",
   "execution_count": null,
   "metadata": {
    "collapsed": true
   },
   "outputs": [],
   "source": [
    "np.shape(vectors)"
   ]
  },
  {
   "cell_type": "code",
   "execution_count": null,
   "metadata": {
    "collapsed": true
   },
   "outputs": [],
   "source": [
    "def question_list(*args):\n",
    "    #Function which compute the list of questions,the list of question_id and the list of image_id \n",
    "    #qCat = collections.defaultdict(dict)\n",
    "    question_vec=[]\n",
    "    question_id_vec=[]\n",
    "    vector_image_id=[]\n",
    "    #for dataset in list(*args):\n",
    "    data = json.load(open(*args))\n",
    "    for i in range(len(data[\"questions\"])):\n",
    "        #question_type = data[\"annotations\"][i][\"question_type\"]\n",
    "        question = data[\"questions\"][i]['question']\n",
    "        image_id=data[\"questions\"][i]['image_id']\n",
    "        question_id=data[\"questions\"][i]['image_id']\n",
    "        vector_image_id.append(image_id)\n",
    "        question_vec.append(question)\n",
    "        question_id_vec.append(question_id)\n",
    "    return (question_vec,vector_image_id,question_id_vec)"
   ]
  },
  {
   "cell_type": "code",
   "execution_count": null,
   "metadata": {},
   "outputs": [
    {
     "name": "stdout",
     "output_type": "stream",
     "text": [
      "3\n",
      "4\n",
      "5\n",
      "6\n",
      "7\n",
      "8\n",
      "9\n",
      "10\n",
      "11\n",
      "12\n",
      "13\n",
      "14\n",
      "15\n",
      "16\n",
      "17\n",
      "18\n",
      "19\n",
      "20\n",
      "21\n",
      "22\n",
      "23\n",
      "25\n"
     ]
    }
   ],
   "source": [
    "[question_vec,vector_image_id,question_id_vec]=question_list(questions_data)\n",
    "vector=encoder.encode(question_vec)\n",
    "np.savetxt('test.out', vector, delimiter=',')"
   ]
  },
  {
   "cell_type": "code",
   "execution_count": null,
   "metadata": {
    "collapsed": true
   },
   "outputs": [],
   "source": [
    "np.shape(vector)"
   ]
  },
  {
   "cell_type": "code",
   "execution_count": null,
   "metadata": {
    "collapsed": true
   },
   "outputs": [],
   "source": [
    "def answer_list(*args):\n",
    "    #Function that list the answer vec, the image id vec and the question id vec \n",
    "    #qCat = collections.defaultdict(dict)\n",
    "    answer_vec=[]\n",
    "    question_id_vec=[]\n",
    "    vector_image_id=[]\n",
    "    data = json.load(open(*args))\n",
    "    for i in range(len(data[\"annotations\"])):\n",
    "        answer = data[\"annotations\"][i]['multiple_choice_answer']\n",
    "        image_id=data[\"annotations\"][i]['image_id']\n",
    "        question_id_vec=data[\"annotations\"][i]['question_id']\n",
    "        answer_vec.append(answer)\n",
    "        vector_image_id.append(image_id)\n",
    "    return (answer_vec,vector_image_id,question_id_vec)"
   ]
  },
  {
   "cell_type": "code",
   "execution_count": null,
   "metadata": {
    "collapsed": true
   },
   "outputs": [],
   "source": [
    "[answer_vec,vector_image_id_ans,question_id_vec_ans]=answer_list(annotations_data)"
   ]
  },
  {
   "cell_type": "code",
   "execution_count": null,
   "metadata": {
    "collapsed": true
   },
   "outputs": [],
   "source": [
    "np.shape(vector)"
   ]
  },
  {
   "cell_type": "code",
   "execution_count": null,
   "metadata": {
    "collapsed": true
   },
   "outputs": [],
   "source": [
    "question"
   ]
  },
  {
   "cell_type": "code",
   "execution_count": null,
   "metadata": {
    "collapsed": true
   },
   "outputs": [],
   "source": [
    "import sys\n",
    "sys.path.append('/Users/tiomokomalik/caffe-master/python')\n",
    "\n",
    "# and then import caffe\n",
    "import caffe\n",
    "import pickle\n",
    "import numpy as np"
   ]
  },
  {
   "cell_type": "code",
   "execution_count": null,
   "metadata": {
    "collapsed": true
   },
   "outputs": [],
   "source": [
    "import os\n",
    "import os.path\n",
    "def extract_features(image_id,n,test):\n",
    "    #image_number=np.shape(image_id);\n",
    "    iter=np.arange(n)\n",
    "    features_vec=[];\n",
    "    for i in iter:\n",
    "        if n==1:\n",
    "            image_id_one=image_id\n",
    "        else :\n",
    "            image_id_one=image_id[i]\n",
    "        #compute the number od zeros to add\n",
    "        count=12-len(str(image_id_one));\n",
    "        vector=np.tile(0, count)\n",
    "        vector1=np.append(vector,image_id_one)\n",
    "        number_image=\"\".join(str(x) for x in vector1)\n",
    "        if test==0:\n",
    "            file_path1='/Volumes/TIOMOKO/train2014/COCO_train2014_'+number_image+'.jpg'\n",
    "            file_path2='/Volumes/TIOMOKO/val2014/COCO_val2014_'+number_image+'.jpg'\n",
    "            input_images_file1=\"\".join(file_path1)\n",
    "            input_images_file2=\"\".join(file_path2)\n",
    "            if os.path.isfile(input_images_file1)==True :\n",
    "                input=file_path\n",
    "            else :\n",
    "                input=file_path2\n",
    "        else :\n",
    "            input='/Volumes/TIOMOKO/test2015/COCO_test2015_'+number_image+'.jpg'\n",
    "        input_images_file=\"\".join(input)\n",
    "        #Function which compute the fc7 features (output) of an image (input) from Caffe model.\n",
    "        #This function has been written and inspired strongly on the webpages\n",
    "        #https://prateekvjoshi.com/2016/04/26/how-to-extract-feature-vectors-from-deep-neural-networks-in-python-caffe/\n",
    "\n",
    "        #Deploy.prototxt copied in model_def\n",
    "        model_def= \"/Users/tiomokomalik/caffe-master/models/bvlc_reference_caffenet/deploy.prototxt\"\n",
    "        #Load the pretrained model\n",
    "        pretrained_model=\"/Users/tiomokomalik/Dropbox/Object_reco/Code/bvlc_reference_caffenet.caffemodel\"\n",
    "\n",
    "        # output file to write extracted features to disk\n",
    "        #output_file = \"/Users/tiomokomalik/Dropbox/Object_reco/Code/output-file.pkl\"\n",
    "\n",
    "        #Initialize the convolutional neural network\n",
    "        net = caffe.Net(model_def, pretrained_model, caffe.TEST)\n",
    "        #Features to extract and insure it's in the model\n",
    "        layer = \"fc7\"\n",
    "        if layer not in net.blobs:\n",
    "            raise TypeError(\"Invalid layer name: \" + layer)\n",
    "\n",
    "        #Specify the imagemean file for the image transformer\n",
    "        imagemean_file = '/Users/tiomokomalik/caffe-master/python/caffe/imagenet/ilsvrc_2012_mean.npy'\n",
    "        #Transform the image before feeding up to the network\n",
    "        transformer = caffe.io.Transformer({'data': net.blobs['data'].data.shape})\n",
    "        transformer.set_mean('data', np.load(imagemean_file).mean(1).mean(1))\n",
    "        transformer.set_transpose('data', (2,0,1))\n",
    "        transformer.set_raw_scale('data', 255.0)\n",
    "        #Reshape the network blob\n",
    "        net.blobs['data'].reshape(1,3,227,227)\n",
    "        #Load the input image:\n",
    "        img = caffe.io.load_image(input_images_file)\n",
    "        #Run the image through the preprocessor:\n",
    "        net.blobs['data'].data[...] = transformer.preprocess('data', img)\n",
    "        #Run the image through the network:\n",
    "        output = net.forward()\n",
    "        #Extract the output\n",
    "        vector=net.blobs[layer].data[0]\n",
    "        features_vec.append(vector)\n",
    "    return features_vec"
   ]
  },
  {
   "cell_type": "code",
   "execution_count": null,
   "metadata": {
    "collapsed": true
   },
   "outputs": [],
   "source": [
    "image_id=[458748,9]\n",
    "features=extract_features(image_id)"
   ]
  },
  {
   "cell_type": "code",
   "execution_count": null,
   "metadata": {
    "collapsed": true
   },
   "outputs": [],
   "source": [
    "np.shape(features)"
   ]
  },
  {
   "cell_type": "code",
   "execution_count": null,
   "metadata": {
    "collapsed": true
   },
   "outputs": [],
   "source": [
    "number_image"
   ]
  },
  {
   "cell_type": "code",
   "execution_count": null,
   "metadata": {
    "collapsed": true
   },
   "outputs": [],
   "source": [
    "for dataset in list(annotations_data):\n",
    "        data = json.load(open(dataset))"
   ]
  },
  {
   "cell_type": "code",
   "execution_count": null,
   "metadata": {
    "collapsed": true
   },
   "outputs": [],
   "source": [
    "from sklearn.metrics.pairwise import cosine_similarity\n",
    "baseline4 = []\n",
    "k=4;\n",
    "for q in yes_test_OE['questions']:\n",
    "    #First find the k closest question in the list\n",
    "    #For that define the cosine similarity\n",
    "    query=q['question']\n",
    "    query_vec=[]\n",
    "    query_vec.append(query)\n",
    "    vector_query=encoder.encode(query_vec)\n",
    "    cosine_distance=cosine_similarity(vector_query,vector)\n",
    "    length=np.shape(cosine_distance)[1]-1\n",
    "    #Sort the cosine similarity and conserve the k first index\n",
    "    index_sorted=np.argsort(cosine_distance)\n",
    "    index_sorted_select=index_sorted[0][0:k]\n",
    "    #From the question sorted find the corresponding image\n",
    "    image_id_query=q['image_id']\n",
    "    image_id=[vector_image_id[i] for i in index_sorted_select]\n",
    "    #Compute the cosine similarity between the image query and the k image_id\n",
    "    #First compute the fc7 feature for each image\n",
    "    fc7_image_id_query=extract_features(image_id_query,1,1)\n",
    "    fc7_image_id=extract_features(image_id,4,0)\n",
    "    cosine_distance_image=cosine_similarity(fc7_image_id_query,fc7_image_id)\n",
    "    index_sorted_image=np.argsort(cosine_distance_image)\n",
    "    index_sorted_select_image=index_sorted_image[0][0]\n",
    "    index_best_answer=vector_image_id_ans.index(image_id[index_sorted_select_image])\n",
    "    #chhosen_image_id=image_id(index_sorted_image[0])\n",
    "    #find the resulting answer corresponding to this image id\n",
    "    answer_image_id=answer_vec[index_best_answer]\n",
    "    d['answer'] = answer_image_id\n",
    "    d['question_id'] = q['question_id']\n",
    "    baseline4.append(d)\n",
    "    print 'done'\n",
    "\n",
    "with open('baseline4.json', 'w') as outfile:\n",
    "    json.dump(baseline4, outfile)"
   ]
  },
  {
   "cell_type": "code",
   "execution_count": null,
   "metadata": {
    "collapsed": true
   },
   "outputs": [],
   "source": [
    "np.arange(k)"
   ]
  },
  {
   "cell_type": "code",
   "execution_count": null,
   "metadata": {
    "collapsed": true
   },
   "outputs": [],
   "source": [
    "for q in yes_test_OE['questions']:\n",
    "    #First find the k closest question in the list\n",
    "    #For that define the cosine similarity\n",
    "    query=q['question'];"
   ]
  },
  {
   "cell_type": "code",
   "execution_count": null,
   "metadata": {
    "collapsed": true
   },
   "outputs": [],
   "source": [
    "query_vec=[];\n",
    "query_vec.append(query)"
   ]
  },
  {
   "cell_type": "code",
   "execution_count": null,
   "metadata": {
    "collapsed": true
   },
   "outputs": [],
   "source": [
    "encoder.encode(query_vec)"
   ]
  },
  {
   "cell_type": "code",
   "execution_count": null,
   "metadata": {
    "collapsed": true
   },
   "outputs": [],
   "source": []
  }
 ],
 "metadata": {
  "anaconda-cloud": {},
  "kernelspec": {
   "display_name": "Python 3",
   "language": "python",
   "name": "python3"
  },
  "language_info": {
   "codemirror_mode": {
    "name": "ipython",
    "version": 3
   },
   "file_extension": ".py",
   "mimetype": "text/x-python",
   "name": "python",
   "nbconvert_exporter": "python",
   "pygments_lexer": "ipython3",
   "version": "3.6.3"
  }
 },
 "nbformat": 4,
 "nbformat_minor": 2
}
