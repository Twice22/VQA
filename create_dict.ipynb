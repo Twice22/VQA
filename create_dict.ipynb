{
 "cells": [
  {
   "cell_type": "markdown",
   "metadata": {},
   "source": [
    "## Create correspondance\n",
    "Create a dictionary that maps each id_image to its index in the matrix X of size (nb_features, nb_images)  \n",
    "i.e dict[id_image] = corresponding index in X"
   ]
  },
  {
   "cell_type": "code",
   "execution_count": 1,
   "metadata": {
    "collapsed": true
   },
   "outputs": [],
   "source": [
    "import json\n",
    "import pprint\n",
    "from glob import glob"
   ]
  },
  {
   "cell_type": "code",
   "execution_count": 2,
   "metadata": {
    "collapsed": true
   },
   "outputs": [],
   "source": [
    "coco_train_data = json.load(open('COCO/annotations/captions_train2014.json'))\n",
    "coco_val_data = json.load(open('COCO/annotations/captions_val2014.json'))"
   ]
  },
  {
   "cell_type": "markdown",
   "metadata": {},
   "source": [
    "#### Create dict for training + validation data"
   ]
  },
  {
   "cell_type": "code",
   "execution_count": 4,
   "metadata": {},
   "outputs": [],
   "source": [
    "d = dict.fromkeys(list(map(lambda x: int(x[-16:-4]), glob('COCO/images/*.jpg'))), '')"
   ]
  },
  {
   "cell_type": "code",
   "execution_count": 5,
   "metadata": {},
   "outputs": [],
   "source": [
    "l = list(map(lambda x: int(x[-16:-4]), glob('COCO/images/*.jpg')))\n",
    "for i, image_id in enumerate(l):\n",
    "    d[image_id] = i"
   ]
  },
  {
   "cell_type": "code",
   "execution_count": 19,
   "metadata": {
    "collapsed": true
   },
   "outputs": [],
   "source": [
    "# save as json\n",
    "json.dump(d, open(\"preprocess_datas/id_image_to_index.json\",'w'))"
   ]
  },
  {
   "cell_type": "markdown",
   "metadata": {},
   "source": [
    "#### Create dict for testing data"
   ]
  },
  {
   "cell_type": "code",
   "execution_count": 3,
   "metadata": {
    "collapsed": true
   },
   "outputs": [],
   "source": [
    "d = dict.fromkeys(list(map(lambda x: int(x[-16:-4]), glob('COCO/images_test/*.jpg'))), '')"
   ]
  },
  {
   "cell_type": "code",
   "execution_count": 4,
   "metadata": {
    "collapsed": true
   },
   "outputs": [],
   "source": [
    "l = list(map(lambda x: int(x[-16:-4]), glob('COCO/images_test/*.jpg')))\n",
    "for i, image_id in enumerate(l):\n",
    "    d[image_id] = i"
   ]
  },
  {
   "cell_type": "code",
   "execution_count": 5,
   "metadata": {
    "collapsed": true
   },
   "outputs": [],
   "source": [
    "# save as json\n",
    "json.dump(d, open(\"preprocess_datas/id_img_test_to_index.json\",'w'))"
   ]
  },
  {
   "cell_type": "markdown",
   "metadata": {},
   "source": [
    "### If need be, save as a csv file"
   ]
  },
  {
   "cell_type": "code",
   "execution_count": 13,
   "metadata": {},
   "outputs": [],
   "source": [
    "# save as csv file\n",
    "def write_report(r, filename):\n",
    "    input_file=open(filename, \"a\")\n",
    "    for k, v in r.items():\n",
    "        line = '{}, {}'.format(k, v) \n",
    "        print(line, file=input_file)    \n",
    "    input_file.close()\n",
    "    \n",
    "write_report(d, 'id_img_to_index.txt')"
   ]
  }
 ],
 "metadata": {
  "anaconda-cloud": {},
  "kernelspec": {
   "display_name": "Python 3",
   "language": "python",
   "name": "python3"
  },
  "language_info": {
   "codemirror_mode": {
    "name": "ipython",
    "version": 3
   },
   "file_extension": ".py",
   "mimetype": "text/x-python",
   "name": "python",
   "nbconvert_exporter": "python",
   "pygments_lexer": "ipython3",
   "version": "3.6.3"
  }
 },
 "nbformat": 4,
 "nbformat_minor": 2
}
